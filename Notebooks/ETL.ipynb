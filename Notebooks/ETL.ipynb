{
 "cells": [
  {
   "cell_type": "markdown",
   "metadata": {},
   "source": [
    "Importaremos todas las librerias a utilizar para analizar los documentos csv, hacer una limpieza y combinar los mismos para quedarnos con un archivo final."
   ]
  },
  {
   "cell_type": "code",
   "execution_count": 1,
   "metadata": {},
   "outputs": [],
   "source": [
    "import pandas as pd"
   ]
  },
  {
   "cell_type": "markdown",
   "metadata": {},
   "source": [
    "Comenzaremos con el documento obligatorio (Internet.xls)"
   ]
  },
  {
   "cell_type": "code",
   "execution_count": 2,
   "metadata": {},
   "outputs": [],
   "source": [
    "# Carga del archivo Excel\n",
    "internet_df = pd.ExcelFile(\"/Users/pabloclementi/Desktop/Proyecto2/data_inicial/Internet.xlsx\")\n"
   ]
  },
  {
   "cell_type": "code",
   "execution_count": 3,
   "metadata": {},
   "outputs": [
    {
     "data": {
      "text/plain": [
       "['Acc_vel_loc_sinrangos',\n",
       " 'Velocidad_sin_Rangos',\n",
       " 'Velocidad % por prov',\n",
       " 'Totales VMD',\n",
       " 'Accesos_tecnologia_localidad',\n",
       " 'Totales Accesos Por Tecnología',\n",
       " 'Accesos Por Tecnología',\n",
       " 'Dial-BAf',\n",
       " 'Totales Dial-BAf',\n",
       " 'Penetración-poblacion',\n",
       " 'Penetracion-hogares',\n",
       " 'Penetracion-totales',\n",
       " 'Totales Accesos por velocidad',\n",
       " 'Accesos por velocidad',\n",
       " 'Ingresos']"
      ]
     },
     "execution_count": 3,
     "metadata": {},
     "output_type": "execute_result"
    }
   ],
   "source": [
    "# Listar todas las pestañas\n",
    "pestañas = internet_df.sheet_names\n",
    "pestañas\n"
   ]
  },
  {
   "cell_type": "markdown",
   "metadata": {},
   "source": [
    "Continuamos con los datasets complementarios , que en princiopio usare mapa de conectividad , telefonía fija y television "
   ]
  },
  {
   "cell_type": "code",
   "execution_count": 4,
   "metadata": {},
   "outputs": [],
   "source": [
    "mapa_conectividad = pd.read_csv(\"/Users/pabloclementi/Desktop/Proyecto2/data/mapa_conectividad.csv\")\n",
    "telefonia_fija = pd.read_csv(\"/Users/pabloclementi/Desktop/Proyecto2/data/telefonia_fija.csv\")\n",
    "television = pd.read_csv(\"/Users/pabloclementi/Desktop/Proyecto2/data/Television.csv\")\n"
   ]
  },
  {
   "cell_type": "code",
   "execution_count": 5,
   "metadata": {},
   "outputs": [],
   "source": [
    "internet1 = pd.read_csv('/Users/pabloclementi/Desktop/Proyecto2/data/Accesos Por Tecnología.csv')\n",
    "internet2 = pd.read_csv('/Users/pabloclementi/Desktop/Proyecto2/data/Accesos por velocidad.csv')\n",
    "internet3 = pd.read_csv('/Users/pabloclementi/Desktop/Proyecto2/data/Dial-BAf.csv')\n",
    "internet4 = pd.read_csv('/Users/pabloclementi/Desktop/Proyecto2/data/Penetracion-hogares.csv')\n",
    "internet5 = pd.read_csv('/Users/pabloclementi/Desktop/Proyecto2/data/Penetración-poblacion.csv')\n",
    "internet6 = pd.read_csv('/Users/pabloclementi/Desktop/Proyecto2/data/Velocidad % por prov.csv')\n"
   ]
  },
  {
   "cell_type": "code",
   "execution_count": 6,
   "metadata": {},
   "outputs": [],
   "source": [
    "#Creamos una funcion de limpieza, para cada dataframe donde limpie espacios vacios, remplace el Año 2024 por 2023, y limpie caracteres especiales como *\n",
    "\n",
    "\n",
    "def limpiar_dataframe(df):\n",
    "    # Aplicar strip a todas las columnas de tipo object (strings)\n",
    "    df = df.apply(lambda x: x.str.strip() if x.dtype == 'object' else x)\n",
    "    \n",
    "    # Reemplazar '*' por nada en todas las columnas de tipo object\n",
    "    df = df.apply(lambda x: x.str.replace('*', '') if x.dtype == 'object' else x)\n",
    "    \n",
    "    # Capitalizar todas las columnas de tipo object\n",
    "    df = df.apply(lambda x: x.str.title() if x.dtype == 'object' else x)\n",
    "    \n",
    "    # Reemplazar el año 2024 por 2023 en la columna específica 'Año'\n",
    "    if 'Año' in df.columns:\n",
    "        df['Año'] = df['Año'].replace(2024, 2023)\n",
    "    \n",
    "    return df\n"
   ]
  },
  {
   "cell_type": "code",
   "execution_count": 7,
   "metadata": {},
   "outputs": [],
   "source": [
    "#Aplicamos la funcion a los dataframe de internet \n",
    "internet1 = limpiar_dataframe(internet1)\n",
    "internet2 = limpiar_dataframe(internet2)\n",
    "internet3 = limpiar_dataframe(internet3)\n",
    "internet4 = limpiar_dataframe(internet4)\n",
    "internet5 = limpiar_dataframe(internet5)\n",
    "internet6 = limpiar_dataframe(internet6)"
   ]
  },
  {
   "cell_type": "code",
   "execution_count": 8,
   "metadata": {},
   "outputs": [],
   "source": [
    "# Limpiamos de espacios la columna Año y Trimestre de internet1\n",
    "internet1['Año'] = internet1['Año'].str.strip()\n",
    "internet1['Trimestre'] = internet1['Trimestre'].str.strip()\n",
    "internet1['Provincia'] = internet1['Provincia'].str.strip()\n",
    "\n"
   ]
  },
  {
   "cell_type": "code",
   "execution_count": 9,
   "metadata": {},
   "outputs": [],
   "source": [
    "#Creamos un id que es la concatenacion de Año , Trimestre y Provincia \n",
    "internet1['id'] = internet1['Año'].astype(str) + internet1['Trimestre'].astype(str) + internet1['Provincia'].astype(str)\n",
    "internet2['id'] = internet2['Año'].astype(str) + internet2['Trimestre'].astype(str) + internet2['Provincia'].astype(str)\n",
    "internet3['id'] = internet3['Año'].astype(str) + internet3['Trimestre'].astype(str) + internet3['Provincia'].astype(str)\n",
    "internet4['id'] = internet4['Año'].astype(str) + internet4['Trimestre'].astype(str) + internet4['Provincia'].astype(str)\n",
    "internet5['id'] = internet5['Año'].astype(str) + internet5['Trimestre'].astype(str) + internet5['Provincia'].astype(str)\n",
    "internet6['id'] = internet6['Año'].astype(str) + internet6['Trimestre'].astype(str) + internet6['Provincia'].astype(str)\n",
    "\n"
   ]
  },
  {
   "cell_type": "code",
   "execution_count": 10,
   "metadata": {},
   "outputs": [],
   "source": [
    "#Merge internet 1 y 2 \n",
    "internet_merged12 = pd.merge(internet1, internet2, how='left', on='id')"
   ]
  },
  {
   "cell_type": "code",
   "execution_count": 11,
   "metadata": {},
   "outputs": [],
   "source": [
    "#Borramos columnas año_y trimiestre_y provincia_y  y renombramos las columnas total_x y total_y \n",
    "internet_merged12 = internet_merged12.drop(['Año_y', 'Trimestre_y', 'Provincia_y'], axis=1)\n",
    "internet_merged12.rename(columns={'Total_x': 'Total_acceso_teconologia', 'Total_y': 'Total_acceso_velocidad'}, inplace=True)\n"
   ]
  },
  {
   "cell_type": "code",
   "execution_count": 12,
   "metadata": {},
   "outputs": [],
   "source": [
    "#Renombramos las columnas Año_x, Trimestre_x, Provincia_x \n",
    "internet_merged12.rename(columns={'Año_x': 'Año', 'Trimestre_x': 'Trimestre', 'Provincia_x': 'Provincia'}, inplace=True)"
   ]
  },
  {
   "cell_type": "code",
   "execution_count": 13,
   "metadata": {},
   "outputs": [],
   "source": [
    "#Merge. entre internet_merged12 y internet3 \n",
    "internet_merged123 = pd.merge(internet_merged12, internet3, how='left', on='id')"
   ]
  },
  {
   "cell_type": "code",
   "execution_count": 14,
   "metadata": {},
   "outputs": [],
   "source": [
    "internet_merged123 = internet_merged123.drop(['Año_y', 'Trimestre_y', 'Provincia_y'], axis=1) \n",
    "internet_merged123.rename(columns={'Año_x': 'Año', 'Trimestre_x': 'Trimestre', 'Provincia_x': 'Provincia'}, inplace=True)\n"
   ]
  },
  {
   "cell_type": "code",
   "execution_count": 15,
   "metadata": {},
   "outputs": [],
   "source": [
    "#Merge entre internet_123 y internet 4 \n",
    "internet_merged1234 = pd.merge(internet_merged123, internet4, how='left', on='id')\n",
    "internet_merged1234 = internet_merged1234.drop(['Año_y', 'Trimestre_y', 'Provincia_y'], axis=1) \n",
    "internet_merged1234.rename(columns={'Año_x': 'Año', 'Trimestre_x': 'Trimestre', 'Provincia_x': 'Provincia'}, inplace=True)"
   ]
  },
  {
   "cell_type": "code",
   "execution_count": 16,
   "metadata": {},
   "outputs": [],
   "source": [
    "internet_merged12345 = pd.merge(internet_merged1234,internet5, how='left', on='id')\n",
    "internet_merged12345 = internet_merged12345.drop(['Año_y', 'Trimestre_y', 'Provincia_y'], axis=1)\n",
    "internet_merged12345.rename(columns={'Año_x': 'Año', 'Trimestre_x': 'Trimestre', 'Provincia_x': 'Provincia'}, inplace=True)\n"
   ]
  },
  {
   "cell_type": "code",
   "execution_count": 17,
   "metadata": {},
   "outputs": [],
   "source": [
    "internet_final = pd.merge(internet_merged12345,internet6, how='left', on='id')\n",
    "internet_final = internet_final.drop(['Año_y', 'Trimestre_y', 'Provincia_y'], axis=1)\n",
    "internet_final.rename(columns={'Año_x': 'Año', 'Trimestre_x': 'Trimestre', 'Provincia_x': 'Provincia'}, inplace=True)\n"
   ]
  },
  {
   "cell_type": "code",
   "execution_count": 18,
   "metadata": {},
   "outputs": [
    {
     "data": {
      "text/plain": [
       "Index(['Año', 'Trimestre', 'Provincia', 'ADSL', 'Cablemodem', 'Fibra óptica',\n",
       "       'Wireless', 'Otros', 'Total_acceso_teconologia', 'id', 'HASTA 512 kbps',\n",
       "       '+ 512 Kbps - 1 Mbps', '+ 1 Mbps - 6 Mbps', '+ 6 Mbps - 10 Mbps',\n",
       "       '+ 10 Mbps - 20 Mbps', '+ 20 Mbps - 30 Mbps', '+ 30 Mbps', 'OTROS',\n",
       "       'Total_acceso_velocidad', 'Banda ancha fija', 'Dial up', 'Total',\n",
       "       'Accesos por cada 100 hogares', 'Accesos por cada 100 hab',\n",
       "       'Mbps (Media de bajada)'],\n",
       "      dtype='object')"
      ]
     },
     "execution_count": 18,
     "metadata": {},
     "output_type": "execute_result"
    }
   ],
   "source": [
    "internet_final.columns"
   ]
  },
  {
   "cell_type": "code",
   "execution_count": 19,
   "metadata": {},
   "outputs": [],
   "source": [
    "ordencolumnas=['id','Año','Trimestre','Provincia','Accesos por cada 100 hogares','Accesos por cada 100 hab','ADSL', 'Cablemodem', 'Fibra óptica',\n",
    "       'Wireless', 'Otros', 'Total_acceso_teconologia','HASTA 512 kbps',\n",
    "       '+ 512 Kbps - 1 Mbps', '+ 1 Mbps - 6 Mbps', '+ 6 Mbps - 10 Mbps',\n",
    "       '+ 10 Mbps - 20 Mbps', '+ 20 Mbps - 30 Mbps', '+ 30 Mbps', 'OTROS',\n",
    "       'Total_acceso_velocidad', 'Banda ancha fija', 'Dial up', 'Total','Mbps (Media de bajada)']"
   ]
  },
  {
   "cell_type": "code",
   "execution_count": 20,
   "metadata": {},
   "outputs": [],
   "source": [
    "internet_final= internet_final[ordencolumnas]\n"
   ]
  },
  {
   "cell_type": "code",
   "execution_count": 23,
   "metadata": {},
   "outputs": [],
   "source": [
    "#Borramos filas con idice 960,961 que estan vacias y tienen una nota del dataframe original \n",
    "internet_final.drop(internet_final.index[[960,961]], inplace=True)"
   ]
  },
  {
   "cell_type": "code",
   "execution_count": 24,
   "metadata": {},
   "outputs": [
    {
     "data": {
      "text/plain": [
       "id                              0\n",
       "Año                             0\n",
       "Trimestre                       0\n",
       "Provincia                       0\n",
       "Accesos por cada 100 hogares    0\n",
       "Accesos por cada 100 hab        0\n",
       "ADSL                            0\n",
       "Cablemodem                      0\n",
       "Fibra óptica                    0\n",
       "Wireless                        0\n",
       "Otros                           0\n",
       "Total_acceso_teconologia        0\n",
       "HASTA 512 kbps                  0\n",
       "+ 512 Kbps - 1 Mbps             0\n",
       "+ 1 Mbps - 6 Mbps               0\n",
       "+ 6 Mbps - 10 Mbps              0\n",
       "+ 10 Mbps - 20 Mbps             0\n",
       "+ 20 Mbps - 30 Mbps             0\n",
       "+ 30 Mbps                       0\n",
       "OTROS                           6\n",
       "Total_acceso_velocidad          0\n",
       "Banda ancha fija                0\n",
       "Dial up                         2\n",
       "Total                           0\n",
       "Mbps (Media de bajada)          0\n",
       "dtype: int64"
      ]
     },
     "execution_count": 24,
     "metadata": {},
     "output_type": "execute_result"
    }
   ],
   "source": [
    "valores_nulos= internet_final.isnull().sum()\n",
    "valores_nulos"
   ]
  },
  {
   "cell_type": "code",
   "execution_count": 25,
   "metadata": {},
   "outputs": [],
   "source": [
    "#Convertimos las columnas Año y Trimestre a tipo entero \n",
    "internet_final['Año'] = internet_final['Año'].astype(int)\n",
    "internet_final['Trimestre'] = internet_final['Trimestre'].astype(int)\n",
    "\n"
   ]
  },
  {
   "cell_type": "code",
   "execution_count": 26,
   "metadata": {},
   "outputs": [],
   "source": [
    "#De los datos nulos se detectaron que es 1 dato por provincia en las columnas en Año 2019 mayormente en los trimestres 123 pasamos a rellenar por valor 0 \n",
    "internet_final.fillna(0, inplace=True)\n"
   ]
  },
  {
   "cell_type": "code",
   "execution_count": 27,
   "metadata": {},
   "outputs": [
    {
     "data": {
      "text/plain": [
       "id                              0\n",
       "Año                             0\n",
       "Trimestre                       0\n",
       "Provincia                       0\n",
       "Accesos por cada 100 hogares    0\n",
       "Accesos por cada 100 hab        0\n",
       "ADSL                            0\n",
       "Cablemodem                      0\n",
       "Fibra óptica                    0\n",
       "Wireless                        0\n",
       "Otros                           0\n",
       "Total_acceso_teconologia        0\n",
       "HASTA 512 kbps                  0\n",
       "+ 512 Kbps - 1 Mbps             0\n",
       "+ 1 Mbps - 6 Mbps               0\n",
       "+ 6 Mbps - 10 Mbps              0\n",
       "+ 10 Mbps - 20 Mbps             0\n",
       "+ 20 Mbps - 30 Mbps             0\n",
       "+ 30 Mbps                       0\n",
       "OTROS                           0\n",
       "Total_acceso_velocidad          0\n",
       "Banda ancha fija                0\n",
       "Dial up                         0\n",
       "Total                           0\n",
       "Mbps (Media de bajada)          0\n",
       "dtype: int64"
      ]
     },
     "execution_count": 27,
     "metadata": {},
     "output_type": "execute_result"
    }
   ],
   "source": [
    "internet_final.isnull().sum()"
   ]
  },
  {
   "cell_type": "code",
   "execution_count": 26,
   "metadata": {},
   "outputs": [],
   "source": [
    "# #Para evitar datos rebundantes eliminamos las columnas de totales que son la suma de sus anteriores. \n",
    "# internet_final= internet_final.drop(['Total_acceso_teconologia','Total_acceso_velocidad','Total'], axis=1)\n",
    "\n"
   ]
  },
  {
   "cell_type": "code",
   "execution_count": 28,
   "metadata": {},
   "outputs": [
    {
     "name": "stdout",
     "output_type": "stream",
     "text": [
      "<class 'pandas.core.frame.DataFrame'>\n",
      "RangeIndex: 960 entries, 0 to 959\n",
      "Data columns (total 25 columns):\n",
      " #   Column                        Non-Null Count  Dtype  \n",
      "---  ------                        --------------  -----  \n",
      " 0   id                            960 non-null    object \n",
      " 1   Año                           960 non-null    int64  \n",
      " 2   Trimestre                     960 non-null    int64  \n",
      " 3   Provincia                     960 non-null    object \n",
      " 4   Accesos por cada 100 hogares  960 non-null    float64\n",
      " 5   Accesos por cada 100 hab      960 non-null    float64\n",
      " 6   ADSL                          960 non-null    float64\n",
      " 7   Cablemodem                    960 non-null    float64\n",
      " 8   Fibra óptica                  960 non-null    float64\n",
      " 9   Wireless                      960 non-null    float64\n",
      " 10  Otros                         960 non-null    float64\n",
      " 11  Total_acceso_teconologia      960 non-null    float64\n",
      " 12  HASTA 512 kbps                960 non-null    float64\n",
      " 13  + 512 Kbps - 1 Mbps           960 non-null    float64\n",
      " 14  + 1 Mbps - 6 Mbps             960 non-null    float64\n",
      " 15  + 6 Mbps - 10 Mbps            960 non-null    float64\n",
      " 16  + 10 Mbps - 20 Mbps           960 non-null    float64\n",
      " 17  + 20 Mbps - 30 Mbps           960 non-null    float64\n",
      " 18  + 30 Mbps                     960 non-null    float64\n",
      " 19  OTROS                         960 non-null    float64\n",
      " 20  Total_acceso_velocidad        960 non-null    float64\n",
      " 21  Banda ancha fija              960 non-null    float64\n",
      " 22  Dial up                       960 non-null    float64\n",
      " 23  Total                         960 non-null    float64\n",
      " 24  Mbps (Media de bajada)        960 non-null    float64\n",
      "dtypes: float64(21), int64(2), object(2)\n",
      "memory usage: 187.6+ KB\n"
     ]
    }
   ],
   "source": [
    "internet_final.info()"
   ]
  },
  {
   "cell_type": "code",
   "execution_count": 30,
   "metadata": {},
   "outputs": [],
   "source": [
    "#Guardamos el archivo en un csv dentro de la carpeta data \n",
    "internet_final.to_csv('/Users/pabloclementi/Desktop/Proyecto2/data/internet_final_2.csv', index=False)"
   ]
  },
  {
   "cell_type": "code",
   "execution_count": 29,
   "metadata": {},
   "outputs": [
    {
     "data": {
      "text/plain": [
       "0"
      ]
     },
     "execution_count": 29,
     "metadata": {},
     "output_type": "execute_result"
    }
   ],
   "source": [
    "#Contamos duplicados para verificar el dataframe \n",
    "internet_final.duplicated().sum()\n"
   ]
  }
 ],
 "metadata": {
  "kernelspec": {
   "display_name": "Python 3",
   "language": "python",
   "name": "python3"
  },
  "language_info": {
   "codemirror_mode": {
    "name": "ipython",
    "version": 3
   },
   "file_extension": ".py",
   "mimetype": "text/x-python",
   "name": "python",
   "nbconvert_exporter": "python",
   "pygments_lexer": "ipython3",
   "version": "3.12.1"
  }
 },
 "nbformat": 4,
 "nbformat_minor": 2
}
